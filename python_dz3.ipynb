{
 "cells": [
  {
   "cell_type": "markdown",
   "metadata": {},
   "source": [
    "**Задание 1**. Дан список с визитами по городам и странам. \n",
    "Напишите код, который возвращает отфильтрованный список geo_logs, содержащий только визиты из России."
   ]
  },
  {
   "cell_type": "code",
   "execution_count": null,
   "metadata": {},
   "outputs": [],
   "source": [
    "geo_logs = [\n",
    "    {'visit1': ['Москва', 'Россия']},\n",
    "    {'visit2': ['Дели', 'Индия']},\n",
    "    {'visit3': ['Владимир', 'Россия']},\n",
    "    {'visit4': ['Лиссабон', 'Португалия']},\n",
    "    {'visit5': ['Париж', 'Франция']},\n",
    "    {'visit6': ['Лиссабон', 'Португалия']},\n",
    "    {'visit7': ['Тула', 'Россия']},\n",
    "    {'visit8': ['Тула', 'Россия']},\n",
    "    {'visit9': ['Курск', 'Россия']},\n",
    "    {'visit10': ['Архангельск', 'Россия']}\n",
    "]\n",
    "geo_russia = []\n",
    "russia = 'Россия'\n",
    "\n",
    "for vizit in geo_logs:\n",
    "    addme = list(vizit.values())   \n",
    "    geo = str(addme[0][1])\n",
    "    if ('Россия') in geo:\n",
    "        geo_russia.append(vizit)\n",
    "print (geo_russia)\n",
    "    \n",
    "\n"
   ]
  },
  {
   "cell_type": "markdown",
   "metadata": {},
   "source": [
    "\n",
    "**Задание 2**. Выведите на экран все уникальные гео-ID из значений словаря ids. Т. е. список вида [213, 15, 54, 119, 98, 35]"
   ]
  },
  {
   "cell_type": "code",
   "execution_count": null,
   "metadata": {},
   "outputs": [],
   "source": [
    "ids = {'user1': [213, 213, 213, 15, 213], \n",
    "       'user2': [54, 54, 119, 119, 119], \n",
    "       'user3': [213, 98, 98, 35]}\n",
    "id = list(ids.values())\n",
    "allnumbers = []\n",
    "# print(id)\n",
    "for newid in id:\n",
    "    for newid_comp in newid:\n",
    "        allnumbers.append(newid_comp)\n",
    "# print(allnumbers)\n",
    "setnumbers = set(allnumbers)\n",
    "print(setnumbers)\n",
    "        "
   ]
  },
  {
   "cell_type": "markdown",
   "metadata": {},
   "source": [
    "**Задание 3**. Дан список поисковых запросов. Получить распределение количества слов в них. \n",
    "Т. е. поисковых запросов из одного - слова 5%, из двух - 7%, из трех - 3% и т.д."
   ]
  },
  {
   "cell_type": "code",
   "execution_count": null,
   "metadata": {},
   "outputs": [],
   "source": [
    "queries = [\n",
    "    'смотреть сериалы онлайн',\n",
    "    'новости спорта',\n",
    "    'афиша кино',\n",
    "    'курс доллара',\n",
    "    'сериалы этим летом',\n",
    "    'курс по питону',\n",
    "    'сериалы про спорт',\n",
    "]\n",
    "lenq = len(queries)\n",
    "num_words = int(input('Введите число слов в запросе: '))\n",
    "counter_words = []\n",
    "for que in queries:\n",
    "    len1 = len(que.split(' '))\n",
    "    if len1 == num_words:\n",
    "        counter_words.append(1)\n",
    "# print(counter_words)\n",
    "final = (len(counter_words) / lenq)*100\n",
    "print('Поисковых запросов с количеством слов ', num_words, ' — ', final, '%')"
   ]
  },
  {
   "cell_type": "markdown",
   "metadata": {},
   "source": [
    "**Задание 4**. Дана статистика рекламных каналов по объемам продаж. Напишите скрипт, который возвращает название канала с максимальным объемом.\n",
    "Т. е. в данном примере скрипт должен возвращать 'yandex'."
   ]
  },
  {
   "cell_type": "code",
   "execution_count": 11,
   "metadata": {},
   "outputs": [
    {
     "name": "stdout",
     "output_type": "stream",
     "text": [
      "yandex\n"
     ]
    }
   ],
   "source": [
    "stats = {'facebook': 55, 'yandex': 120, 'vk': 115, 'google': 99, 'email': 42, 'ok': 98}\n",
    "volume = list(stats.values())\n",
    "#print(volume)\n",
    "max_vol = max(volume)\n",
    "#print(max_vol)\n",
    "for key, value in stats.items():\n",
    "    if value == max_vol:\n",
    "        print(key)\n",
    "    \n"
   ]
  },
  {
   "cell_type": "markdown",
   "metadata": {},
   "source": [
    "**Задание 5**. Напишите код для преобразования произвольного списка вида ['2018-01-01', 'yandex', 'cpc', 100] (он может быть любой длины) в словарь {'2018-01-01': {'yandex': {'cpc': 100}}}"
   ]
  },
  {
   "cell_type": "code",
   "execution_count": null,
   "metadata": {},
   "outputs": [],
   "source": []
  },
  {
   "cell_type": "code",
   "execution_count": 47,
   "metadata": {},
   "outputs": [
    {
     "name": "stdout",
     "output_type": "stream",
     "text": [
      "{'2018-01-01': {'yandex': {'cpc': 100}}}\n"
     ]
    }
   ],
   "source": [
    "strangelist = ['2018-01-01', 'yandex', 'cpc', 100]\n",
    "while len(strangelist) > 1:\n",
    "    helplist = []\n",
    "    help1 = (strangelist[-1])\n",
    "    help2 = (strangelist[-2])\n",
    "    helplist.append(help2)\n",
    "    helplist.append(help1)\n",
    "    key=[]\n",
    "    value=[]\n",
    "    for i,j in enumerate(helplist):\n",
    "        if i==0:\n",
    "            key.append(j)\n",
    "        else:\n",
    "            value.append(j)\n",
    "    helpdict = (dict(zip(key,value)))\n",
    "    del(strangelist[-2:])\n",
    "    strangelist.append(helpdict)\n",
    "finaldict = strangelist[0]\n",
    "print(finaldict)"
   ]
  },
  {
   "cell_type": "code",
   "execution_count": null,
   "metadata": {},
   "outputs": [],
   "source": [
    "\n"
   ]
  }
 ],
 "metadata": {
  "kernelspec": {
   "display_name": "Python 3",
   "language": "python",
   "name": "python3"
  },
  "language_info": {
   "codemirror_mode": {
    "name": "ipython",
    "version": 3
   },
   "file_extension": ".py",
   "mimetype": "text/x-python",
   "name": "python",
   "nbconvert_exporter": "python",
   "pygments_lexer": "ipython3",
   "version": "3.7.6"
  }
 },
 "nbformat": 4,
 "nbformat_minor": 2
}
